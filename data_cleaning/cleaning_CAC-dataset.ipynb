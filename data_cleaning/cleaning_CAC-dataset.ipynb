{
 "cells": [
  {
   "cell_type": "code",
   "execution_count": null,
   "metadata": {},
   "outputs": [],
   "source": [
    "import pandas as pd\n",
    "import re \n",
    "import ast"
   ]
  },
  {
   "cell_type": "code",
   "execution_count": null,
   "metadata": {},
   "outputs": [],
   "source": [
    "df = pd.read_csv('ohchr_SR-Cultural-Rights_2022_2024.csv')\n",
    "pd.set_option('display.max_rows', None)\n",
    "pd.set_option('display.max_columns', None)\n",
    "df"
   ]
  },
  {
   "cell_type": "code",
   "execution_count": null,
   "metadata": {
    "scrolled": true
   },
   "outputs": [],
   "source": [
    "#check if there is more than one country in the country column \n",
    "df_country = df.copy()\n",
    "country_split = df_country['country'].apply(lambda x: x.strip('[]').replace(\"'\", \"\").split(', '))\n",
    "has_multiple_countries = country_split.apply(lambda x: len(x) > 1)\n",
    "df_country['has_multiple_countries'] = has_multiple_countries\n",
    "df_country['has_multiple_countries'].value_counts()\n"
   ]
  },
  {
   "cell_type": "code",
   "execution_count": null,
   "metadata": {},
   "outputs": [],
   "source": [
    "#spliting the country name to have it as a string \n",
    "country_df = df.copy()\n",
    "splited_country = country_df['country'].apply(lambda x: x.strip('[]').replace(\"'\", \"\"))\n",
    "year_df = pd.DataFrame(splited_country.tolist(), index=country_df.index)\n",
    "country_df = pd.concat([country_df, year_df], axis=1)\n",
    "new_df = country_df.copy()\n",
    "new_df = new_df.drop(columns='country')\n",
    "new_df = new_df.rename(columns={0:'country'})\n",
    "new_df.columns.values"
   ]
  },
  {
   "cell_type": "code",
   "execution_count": null,
   "metadata": {},
   "outputs": [],
   "source": [
    "new_df.head(10)"
   ]
  },
  {
   "cell_type": "code",
   "execution_count": null,
   "metadata": {},
   "outputs": [],
   "source": [
    "#clean the years\n",
    "#df['Publishing_Year'] = df['Publishing_Year'].astype(int) / changes to ineger \n",
    "\n",
    "text = \"CAT/C/KOR/CO/6 (CAT 2024 )\t\"\n",
    "text = text.strip()\n",
    "year_regex = r'\\s\\d{4}'\n",
    "searching = re.findall(year_regex, text)\n",
    "str_search = str(searching)\n",
    "str_search.strip(\"[]\").replace(\"'\",\"\").strip()\n"
   ]
  },
  {
   "cell_type": "code",
   "execution_count": null,
   "metadata": {},
   "outputs": [],
   "source": [
    "#seperating year from code\n",
    "new_df[\"Year\"] = new_df[\"year\"].apply(lambda x: re.findall(r\"\\s\\d{4}\", x.strip())[0] if re.findall(r\"\\s\\d{4}\", x.strip()) else None)\n",
    "new_df[\"code\"] = new_df[\"year\"].apply(lambda x: re.findall(r\"(.*?)\\(\", x.strip())[0] if re.findall(r\"\\((.*?)\\)\", x.strip()) else None)\n",
    "\n",
    "new_df.head(10)\n",
    "new_df = new_df.drop(columns='year')\n",
    "new_df = new_df.rename(columns={'Year':'year'})\n",
    "new_df.head(10)"
   ]
  },
  {
   "cell_type": "code",
   "execution_count": null,
   "metadata": {},
   "outputs": [],
   "source": [
    "groups = new_df.copy()\n",
    "\n",
    "splited_group = groups['concerned-group'].apply(lambda x: x.strip('[]').replace(\"'\", \"\"))\n",
    "group_df = pd.DataFrame(splited_group.tolist(), index=groups.index)\n",
    "group_df = pd.concat([groups, group_df], axis=1)\n",
    "group_df = group_df.drop(columns='concerned-group')\n",
    "group_df = group_df.rename(columns={0:'concerned-group'})\n"
   ]
  },
  {
   "cell_type": "code",
   "execution_count": null,
   "metadata": {},
   "outputs": [],
   "source": [
    "#spliting each group into a row so we have a good over view per group and case\n",
    "df_concerened_groups = group_df.copy()\n",
    "df_concerened_groups['concerned-group']=df_concerened_groups['concerned-group'].str.replace(r\",\\s+\",' and ',regex=True)\n",
    "df_concerened_groups['concerned-group']=df_concerened_groups['concerned-group'].str.split(' and ')\n",
    "df_group_exploded = df_concerened_groups.explode('concerned-group')\n",
    "df_group_exploded.head(10)\n"
   ]
  },
  {
   "cell_type": "code",
   "execution_count": null,
   "metadata": {},
   "outputs": [],
   "source": [
    "\n",
    "themes = df_group_exploded.copy()\n",
    "\n",
    "def safe_literal_eval(val):\n",
    "    if isinstance(val, str):\n",
    "        return ast.literal_eval(val)  # Converts the string representation to a Python list\n",
    "    return val  # If already a list, do nothing\n",
    "\n",
    "themes[\"human-rights-theme\"] = themes[\"human-rights-theme\"].apply(safe_literal_eval)\n",
    "\n",
    "# Step 2: Explode the list directly (no regex needed)\n",
    "df_exploded = themes.explode(\"human-rights-theme\").reset_index(drop=True)\n",
    "\n",
    "# Step 3: Explode the dataframe\n",
    "df_exploded = themes.explode(\"human-rights-theme\")\n",
    "df_exploded.head(10)\n"
   ]
  },
  {
   "cell_type": "code",
   "execution_count": null,
   "metadata": {},
   "outputs": [],
   "source": [
    "df_new_anno = df_exploded.copy()\n",
    "\n",
    "anno_stiped = df_new_anno['annotaion type'].apply(lambda x: x.strip('[]').replace(\"'\", \"\"))\n",
    "\n",
    "anno_df_new = pd.DataFrame(anno_stiped.tolist(), index=df_new_anno.index)\n",
    "\n",
    "anno_df_new = pd.concat([df_new_anno, anno_df_new], axis=1)\n",
    "\n",
    "anno_df_new = anno_df_new.drop(columns='annotaion type')\n",
    "\n",
    "anno_df_new = anno_df_new.rename(columns={0:'annotaion-type'})\n",
    "anno_df_new.head(10)\n"
   ]
  },
  {
   "cell_type": "code",
   "execution_count": null,
   "metadata": {},
   "outputs": [],
   "source": [
    "df_final = anno_df_new.copy()\n",
    "df_final.shape\n",
    "new_order = [\"year\",\"country\",\"concerned-group\", \"human-rights-theme\",\"annotaion-type\",\"term\", \"code\"]\n",
    "df_final = df_final[new_order]\n"
   ]
  },
  {
   "cell_type": "code",
   "execution_count": null,
   "metadata": {},
   "outputs": [],
   "source": [
    "df_index = df_final.copy()\n",
    "df_index = df_index.reset_index(drop=True)  # `drop=True` removes the old index\n",
    "\n",
    "df_index['country'].value_counts().unique()\n",
    "\n"
   ]
  },
  {
   "cell_type": "code",
   "execution_count": null,
   "metadata": {},
   "outputs": [],
   "source": [
    "df_mech = df_index.copy()\n",
    "df_mech[\"un-mechanism-code\"] = df_mech[\"code\"].apply(lambda x: re.findall(r\"^.{3}\", x.strip())[0] if re.findall(r\"^.{3}\", x.strip()) else None)\n",
    "df_mech['un-mechanism'] = \"Committee on the Rights of the Child\"\n",
    "df_mech = df_mech.drop(columns='code')\n",
    "df_mech.head(10)"
   ]
  },
  {
   "cell_type": "code",
   "execution_count": null,
   "metadata": {},
   "outputs": [],
   "source": [
    "new_order = [\"un-mechanism-code\",\"un-mechanism\",\"year\",\"country\",\"concerned-group\", \"human-rights-theme\",\"annotaion-type\",\"term\"]\n",
    "df_mech = df_mech[new_order]\n",
    "df_mech.head(10)"
   ]
  },
  {
   "cell_type": "code",
   "execution_count": null,
   "metadata": {},
   "outputs": [],
   "source": [
    "final_df = df_mech.copy()\n",
    "final_df.to_csv('Special-Rapporteur-in-the-field-of-cultural-rights.csv', index=False)"
   ]
  },
  {
   "cell_type": "code",
   "execution_count": null,
   "metadata": {},
   "outputs": [],
   "source": [
    "final_df['country'].value_counts().head(10)"
   ]
  },
  {
   "cell_type": "code",
   "execution_count": null,
   "metadata": {},
   "outputs": [],
   "source": [
    "final_df['human-rights-theme'].value_counts().head(10)"
   ]
  },
  {
   "cell_type": "code",
   "execution_count": null,
   "metadata": {},
   "outputs": [],
   "source": [
    "final_df['concerned-group'].value_counts().head(10)"
   ]
  },
  {
   "cell_type": "code",
   "execution_count": null,
   "metadata": {},
   "outputs": [],
   "source": [
    "final_df['term'].value_counts().head(10)"
   ]
  },
  {
   "cell_type": "code",
   "execution_count": null,
   "metadata": {},
   "outputs": [],
   "source": []
  }
 ],
 "metadata": {
  "kernelspec": {
   "display_name": "Python 3",
   "language": "python",
   "name": "python3"
  },
  "language_info": {
   "codemirror_mode": {
    "name": "ipython",
    "version": 3
   },
   "file_extension": ".py",
   "mimetype": "text/x-python",
   "name": "python",
   "nbconvert_exporter": "python",
   "pygments_lexer": "ipython3",
   "version": "3.10.12"
  }
 },
 "nbformat": 4,
 "nbformat_minor": 4
}
