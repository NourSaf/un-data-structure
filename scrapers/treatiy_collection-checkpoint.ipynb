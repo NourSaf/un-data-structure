{
 "cells": [
  {
   "cell_type": "markdown",
   "metadata": {},
   "source": [
    "# UN Treaty Collection Scraper\n",
    "\n",
    "## Project Overview\n",
    "This notebook scrapes data from the UN Treaty Collection website to gather information about countries' participation in international treaties, specifically focusing on the Convention on the Prevention and Punishment of the Crime of Genocide (Paris, 9 December 1948).\n",
    "\n",
    "## Data Collection Goals\n",
    "We aim to extract the following information for each country:\n",
    "1. Country name\n",
    "2. Signature status (signed or not signed)\n",
    "3. Approval status (ratification, accession, or succession)\n",
    "\n",
    "## Methodology\n",
    "\n",
    "### Signature Status Detection\n",
    "- Extract country names from the first column of the table\n",
    "- Check if the signature field (`<td>` element) contains actual data or a non-breaking space (`&nbsp;`)\n",
    "- If data exists → country has signed the treaty\n",
    "- If `&nbsp;` exists → country has not signed the treaty\n",
    "\n",
    "### Approval Status Detection\n",
    "- Extract the ratification/accession/succession information from the third column\n",
    "- Apply the same logic to determine if a country has approved the treaty\n",
    "- Record the specific type of approval when available\n",
    "\n",
    "## Note on Treaty Approval Types\n",
    "Different approval mechanisms reflect various ways countries commit to treaties:\n",
    "\n",
    "- **Ratification**: When a country has signed the treaty and later formally approves it\n",
    "- **Accession (a)**: When a country directly joins a treaty without having signed it first\n",
    "- **Succession (d)**: When a newly independent country declares it will continue to be bound by a treaty that applied to its territory before independence\n",
    "\n",
    "These different mechanisms achieve the same legal effect (treaty approval) but reflect differences in governmental structures and diplomatic processes.\n",
    "\n",
    "## Data Structure\n",
    "The collected data will be structured as follows:\n",
    "```json\n",
    "{\n",
    "    \"country-name\": \"Country Name\",\n",
    "    \"signature-status\": \"signed/not signed\",\n",
    "    \"approval-status\": \"approved/not-stated\"\n",
    "}\n",
    "```"
   ]
  },
  {
   "cell_type": "code",
   "execution_count": null,
   "metadata": {},
   "outputs": [],
   "source": [
    "#import requests and beautifulSoup\n",
    "import requests\n",
    "from bs4 import BeautifulSoup\n",
    "import re"
   ]
  },
  {
   "cell_type": "code",
   "execution_count": null,
   "metadata": {},
   "outputs": [],
   "source": [
    "url = \"https://treaties.un.org/Pages/ViewDetails.aspx?src=TREATY&mtdsg_no=IV-1&chapter=4&clang=_en\"\n",
    "html = requests.get(url).content\n",
    "doc = BeautifulSoup(html,'html.parser')"
   ]
  },
  {
   "cell_type": "code",
   "execution_count": null,
   "metadata": {},
   "outputs": [],
   "source": [
    "tableRows = doc.find(id = 'ctl00_ctl00_ContentPlaceHolder1_ContentPlaceHolderInnerPage_tblgrid').find_all('tr')\n",
    "\n",
    "if tableRows:\n",
    "    print(tableRows)\n",
    "else:\n",
    "    print(\"Element not found\")"
   ]
  },
  {
   "cell_type": "markdown",
   "metadata": {},
   "source": [
    "The data should be structured as follows: \n",
    "\n",
    "{\n",
    "    'treatey-name': 'treaty name',\n",
    "    'treay-code':'tready code',\n",
    "    'country-name':'country-name',\n",
    "}"
   ]
  },
  {
   "cell_type": "code",
   "execution_count": null,
   "metadata": {},
   "outputs": [],
   "source": [
    "import re\n",
    "status_list = []\n",
    "\n",
    "treaty_name = doc.find('div', class_= 'treatyCenter').text\n",
    "page_title = re.sub(r'\\s+', ' ', treaty_name)\n",
    "treaty_title = re.sub(r'^\\s*\\d+\\.\\s*', '', page_title).strip()\n",
    "\n",
    "for row in tableRows[1:]:\n",
    "    country_name = row.find_all('td')[0].text\n",
    "    signed = row.find_all('td')[1].decode_contents().strip()\n",
    "    condition = (bool(signed) and signed != '&nbsp')\n",
    "    if condition: \n",
    "        sig = signed.replace(signed, \"signed\")\n",
    "    else:\n",
    "        sig = signed.replace(signed, 'not signed')\n",
    "\n",
    "    ratification = row.find_all('td')[2].decode_contents().strip()\n",
    "    sec_condition = (bool(ratification) and ratification != '&nbsp')\n",
    "    if (sec_condition):\n",
    "        status = ratification.replace(ratification, 'approved')\n",
    "    else:\n",
    "        status = ratification.replace(ratification, 'not-stated')\n",
    "    info_dec = {\n",
    "        \"country-name\": country_name,\n",
    "        \"signature-status\": sig,\n",
    "        \"approval-status\": status\n",
    "    }\n",
    "    status_list.append(info_dec)\n",
    "\n",
    "print (status_list)"
   ]
  },
  {
   "cell_type": "markdown",
   "metadata": {},
   "source": [
    "Notes: Vietnam is written wrong \"Viet Nam\" it should be replaced. Some countries has numbers after refereing to other sections in the webpage."
   ]
  }
 ],
 "metadata": {
  "kernelspec": {
   "display_name": "Python 3",
   "language": "python",
   "name": "python3"
  },
  "language_info": {
   "codemirror_mode": {
    "name": "ipython",
    "version": 3
   },
   "file_extension": ".py",
   "mimetype": "text/x-python",
   "name": "python",
   "nbconvert_exporter": "python",
   "pygments_lexer": "ipython3",
   "version": "3.10.12"
  }
 },
 "nbformat": 4,
 "nbformat_minor": 2
}
