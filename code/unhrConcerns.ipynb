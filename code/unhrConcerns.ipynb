{
 "cells": [
  {
   "cell_type": "code",
   "execution_count": 2,
   "metadata": {},
   "outputs": [],
   "source": [
    "#import requests and beautifulSoup\n",
    "import requests\n",
    "from bs4 import BeautifulSoup"
   ]
  },
  {
   "cell_type": "code",
   "execution_count": 3,
   "metadata": {},
   "outputs": [],
   "source": [
    "url = \"https://uhri.ohchr.org/en/search-human-rights-recommendations?mechanisms=c33cacab-3cce-4f17-85e7-d1498db6b1aa&mechanismsOpened=c33cacab-3cce-4f17-85e7-d1498db6b1aa\"\n",
    "html = requests.get(url).content\n",
    "doc = BeautifulSoup(html,'html.parser')"
   ]
  },
  {
   "cell_type": "code",
   "execution_count": 7,
   "metadata": {},
   "outputs": [
    {
     "name": "stdout",
     "output_type": "stream",
     "text": [
      "Element not found\n"
     ]
    }
   ],
   "source": [
    "annotation_type = doc.find('div', class_='result-section-column-1')\n",
    "\n",
    "if annotation_type:\n",
    "    print(annotation_type.text)\n",
    "else:\n",
    "    print(\"Element not found\")"
   ]
  },
  {
   "cell_type": "code",
   "execution_count": null,
   "metadata": {},
   "outputs": [
    {
     "name": "stdout",
     "output_type": "stream",
     "text": [
      "[{'country': 'Republic of Korea', 'concerned-group': ['Law enforcement / police & prison officials', 'Military personnel']}]\n"
     ]
    }
   ],
   "source": [
    "import asyncio\n",
    "from playwright.async_api import async_playwright\n",
    "\n",
    "playwright = await async_playwright().start()\n",
    "browser = await playwright.chromium.launch(headless = False)\n",
    "page = await browser.new_page()\n",
    "\n",
    "await page.goto('https://uhri.ohchr.org/en/search-human-rights-recommendations?mechanisms=c33cacab-3cce-4f17-85e7-d1498db6b1aa&mechanismsOpened=c33cacab-3cce-4f17-85e7-d1498db6b1aa')\n",
    "await page.wait_for_load_state(\"domcontentloaded\")\n",
    "\n",
    "wait = await page.wait_for_selector('.result-section-lists-wrapper.row')\n",
    "wrapper = await page.query_selector('.result-section-lists-wrapper.row')\n",
    "content = await wrapper.inner_html()\n",
    "\n",
    "#getting information about the effected persons\n",
    "ep_class = await page.query_selector('.affected-persons')\n",
    "ep_element = await ep_class.query_selector_all('li')\n",
    "\n",
    "ep_title = []\n",
    "for ep in ep_element:\n",
    "    ep_title.append(await ep.text_content())\n",
    "\n",
    "\n",
    "countries_class = await page.query_selector('.countries')\n",
    "countries_element = await countries_class.query_selector('li')\n",
    "countries_name = await countries_element.text_content()\n",
    "\n",
    "information = []\n",
    "dectionary = {\n",
    "    \"country\": countries_name,\n",
    "    \"concerned-group\": ep_title,\n",
    "}\n",
    "\n",
    "information.append(dectionary)\n",
    "print(information)\n",
    "await browser.close()\n"
   ]
  },
  {
   "cell_type": "code",
   "execution_count": null,
   "metadata": {},
   "outputs": [],
   "source": []
  }
 ],
 "metadata": {
  "kernelspec": {
   "display_name": "Python 3",
   "language": "python",
   "name": "python3"
  },
  "language_info": {
   "codemirror_mode": {
    "name": "ipython",
    "version": 3
   },
   "file_extension": ".py",
   "mimetype": "text/x-python",
   "name": "python",
   "nbconvert_exporter": "python",
   "pygments_lexer": "ipython3",
   "version": "3.10.12"
  }
 },
 "nbformat": 4,
 "nbformat_minor": 4
}
