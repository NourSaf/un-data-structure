{
 "cells": [
  {
   "cell_type": "markdown",
   "metadata": {},
   "source": [
    "## Scrapping the Universal Human Rights Index\n",
    "\n",
    "In the first step I'm looking into the mechanisim of CAT (Committee against Torture)\n",
    "[Universal Human Rights Index Committee against Torture](https://uhri.ohchr.org/en/search-human-rights-recommendations?mechanisms=c33cacab-3cce-4f17-85e7-d1498db6b1aa&mechanismsOpened=c33cacab-3cce-4f17-85e7-d1498db6b1aa)\n",
    "\n",
    "The goal here is to create a structured a data-set showing to which countries had the UN committies addressed recommindation and concerens regarding human-rights vaiulations by countries. \n",
    "\n",
    "\n",
    "The data will be stuctured as follows:\n",
    "\n",
    "        {\n",
    "            'term': 'term',\n",
    "            'country': 'Republic of Korea', \n",
    "            'concerned-group': [\n",
    "                'group 01', \n",
    "                'group 02',\n",
    "                'group 03,\n",
    "                ],\n",
    "            'human-rights-themes': [\n",
    "                'theme 01',\n",
    "                'theme 02',\n",
    "                'theme 03',\n",
    "                ],\n",
    "            'Type': [\n",
    "                'type 01',\n",
    "                'type 02',\n",
    "                'type 03',\n",
    "                ]    \n",
    "        }\n",
    "        \n",
    "\n",
    "Then turn the scrapped data into a CSV file and uploade it to a database management platform \n",
    "\n",
    "Filter years for more order \n",
    "year by year \n",
    "save -> panads -> csv \n",
    "csv -> json -> add a year as property\n",
    "sample code from python to monogo\n",
    "API-interface \n",
    "\n",
    "###### Disclaimer: The classification labels for Concerned persons/groups, Human Rights Themes and SDGs are provided for informational purposes only. While we strive for accuracy, these labels may not be exhaustive and should be considered as indicative insights rather than definitive categorizations."
   ]
  },
  {
   "cell_type": "code",
   "execution_count": 1,
   "metadata": {},
   "outputs": [],
   "source": [
    "#import requests and beautifulSoup\n",
    "import requests\n",
    "from bs4 import BeautifulSoup"
   ]
  },
  {
   "cell_type": "code",
   "execution_count": 2,
   "metadata": {},
   "outputs": [],
   "source": [
    "url = \"https://uhri.ohchr.org/en/search-human-rights-recommendations?mechanisms=c33cacab-3cce-4f17-85e7-d1498db6b1aa&mechanismsOpened=c33cacab-3cce-4f17-85e7-d1498db6b1aa\"\n",
    "html = requests.get(url).content\n",
    "doc = BeautifulSoup(html,'html.parser')"
   ]
  },
  {
   "cell_type": "code",
   "execution_count": 3,
   "metadata": {},
   "outputs": [
    {
     "name": "stdout",
     "output_type": "stream",
     "text": [
      "Element not found\n"
     ]
    }
   ],
   "source": [
    "annotation_type = doc.find('div', class_='result-section-column-1')\n",
    "\n",
    "if annotation_type:\n",
    "    print(annotation_type.text)\n",
    "else:\n",
    "    print(\"Element not found\")"
   ]
  },
  {
   "cell_type": "code",
   "execution_count": null,
   "metadata": {},
   "outputs": [
    {
     "name": "stdout",
     "output_type": "stream",
     "text": [
      "{'country': 'Republic of Korea', 'concerned-group': ['Law enforcement / police & prison officials', 'Military personnel'], 'annotation-type': ['Concerns/Observations'], 'human-rights-theme': ['Cooperation & Follow up with Treaty Bodies', 'National Human Rights Institution (NHRI)']}\n"
     ]
    }
   ],
   "source": [
    "# Base code \n",
    "#––––––––––––––––––––––––––––––––––––––––––––––––––––––––––––––––\n",
    "# imports \n",
    "#––––––––––––––––––––––––––––––––––––––––––––––––––––––––––––––––\n",
    "import asyncio\n",
    "from playwright.async_api import async_playwright\n",
    "#––––––––––––––––––––––––––––––––––––––––––––––––––––––––––––––––\n",
    "# setup\n",
    "#––––––––––––––––––––––––––––––––––––––––––––––––––––––––––––––––\n",
    "playwright = await async_playwright().start()\n",
    "browser = await playwright.chromium.launch(headless = False)\n",
    "page = await browser.new_page()\n",
    "await page.goto('https://uhri.ohchr.org/en/search-human-rights-recommendations?mechanisms=c33cacab-3cce-4f17-85e7-d1498db6b1aa&mechanismsOpened=c33cacab-3cce-4f17-85e7-d1498db6b1aa')\n",
    "await page.wait_for_load_state(\"domcontentloaded\")\n",
    "#––––––––––––––––––––––––––––––––––––––––––––––––––––––––––––––––\n",
    "# wait for the needed element to load to ensure it exists \n",
    "#––––––––––––––––––––––––––––––––––––––––––––––––––––––––––––––––\n",
    "wait = await page.wait_for_selector('.result-section-lists-wrapper.row')\n",
    "#––––––––––––––––––––––––––––––––––––––––––––––––––––––––––––––––\n",
    "#getting information about the effected persons\n",
    "#––––––––––––––––––––––––––––––––––––––––––––––––––––––––––––––––\n",
    "ep_class = await page.query_selector('.affected-persons')\n",
    "ep_element = await ep_class.query_selector_all('li')\n",
    "ep_title = []\n",
    "for ep in ep_element:\n",
    "    ep_title.append(await ep.text_content())\n",
    "#––––––––––––––––––––––––––––––––––––––––––––––––––––––––––––––––\n",
    "# getting countries information \n",
    "#––––––––––––––––––––––––––––––––––––––––––––––––––––––––––––––––\n",
    "countries_class = await page.query_selector('.countries')\n",
    "countries_element = await countries_class.query_selector('li')\n",
    "countries_name = await countries_element.text_content()\n",
    "#––––––––––––––––––––––––––––––––––––––––––––––––––––––––––––––––\n",
    "# getting the annotation type  \n",
    "#––––––––––––––––––––––––––––––––––––––––––––––––––––––––––––––––\n",
    "anno_class = await page.query_selector('.annotationtype')\n",
    "anno_element = await anno_class.query_selector_all('li')\n",
    "anno_type = []\n",
    "for type in anno_element:\n",
    "    anno_type.append(await type.text_content())\n",
    "#––––––––––––––––––––––––––––––––––––––––––––––––––––––––––––––––\n",
    "# getting human rights themes\n",
    "#––––––––––––––––––––––––––––––––––––––––––––––––––––––––––––––––\n",
    "huth_class = await page.query_selector('.themes')\n",
    "huth_element = await huth_class.query_selector_all('li')\n",
    "huth_themes = []\n",
    "for theme in huth_element:\n",
    "    if await theme.text_content():\n",
    "        huth_themes.append(await theme.text_content())\n",
    "    else:\n",
    "        huth_themes.append('not found')\n",
    "#––––––––––––––––––––––––––––––––––––––––––––––––––––––––––––––––\n",
    "# creating a dictionary with the information found \n",
    "#––––––––––––––––––––––––––––––––––––––––––––––––––––––––––––––––\n",
    "dectionary = {\n",
    "    'country': countries_name,\n",
    "    'concerned-group': ep_title,\n",
    "    'annotation-type':anno_type,\n",
    "    'human-rights-theme': huth_themes,\n",
    "}\n",
    "#––––––––––––––––––––––––––––––––––––––––––––––––––––––––––––––––\n",
    "# print \n",
    "#––––––––––––––––––––––––––––––––––––––––––––––––––––––––––––––––\n",
    "print(dectionary)\n",
    "#––––––––––––––––––––––––––––––––––––––––––––––––––––––––––––––––\n",
    "# close the browser after finishing \n",
    "#––––––––––––––––––––––––––––––––––––––––––––––––––––––––––––––––\n",
    "await browser.close()\n"
   ]
  },
  {
   "cell_type": "code",
   "execution_count": 90,
   "metadata": {},
   "outputs": [
    {
     "data": {
      "text/plain": [
       "[{'term': 'Pending follow-up issues from the previous reporting cycle',\n",
       "  'concerned-group': ['Law enforcement / police & prison officials',\n",
       "   'Military personnel']},\n",
       " {'term': 'Definition and criminalization of torture',\n",
       "  'concerned-group': ['Public officials']},\n",
       " {'term': 'Definition and criminalization of torture',\n",
       "  'concerned-group': ['Public officials']},\n",
       " {'term': 'Statute of limitations', 'concerned-group': ['not provided']},\n",
       " {'term': 'Statute of limitations', 'concerned-group': ['not provided']},\n",
       " {'term': 'Fundamental legal safeguards',\n",
       "  'concerned-group': ['Law enforcement / police & prison officials',\n",
       "   'Children',\n",
       "   'Youth & juveniles',\n",
       "   'Persons deprived of their liberty & detainees']},\n",
       " {'term': 'Fundamental legal safeguards',\n",
       "  'concerned-group': ['Law enforcement / police & prison officials',\n",
       "   'Children',\n",
       "   'Medical staff / health professionals',\n",
       "   'Youth & juveniles',\n",
       "   'Persons deprived of their liberty & detainees']}]"
      ]
     },
     "execution_count": 90,
     "metadata": {},
     "output_type": "execute_result"
    }
   ],
   "source": [
    "#––––––––––––––––––––––––––––––––––––––––––––––––––––––––––––––––\n",
    "# imports \n",
    "#––––––––––––––––––––––––––––––––––––––––––––––––––––––––––––––––\n",
    "import asyncio\n",
    "from playwright.async_api import async_playwright\n",
    "#––––––––––––––––––––––––––––––––––––––––––––––––––––––––––––––––\n",
    "# setup\n",
    "#––––––––––––––––––––––––––––––––––––––––––––––––––––––––––––––––\n",
    "playwright = await async_playwright().start()\n",
    "browser = await playwright.chromium.launch(headless = False)\n",
    "page = await browser.new_page()\n",
    "search = 'https://uhri.ohchr.org/en/search-human-rights-recommendations?mechanisms=c33cacab-3cce-4f17-85e7-d1498db6b1aa&mechanismsOpened=c33cacab-3cce-4f17-85e7-d1498db6b1aa'\n",
    "await page.goto(search)\n",
    "await page.wait_for_load_state(\"domcontentloaded\")\n",
    "#––––––––––––––––––––––––––––––––––––––––––––––––––––––––––––––––\n",
    "# wait for the needed element to load to ensure it exists \n",
    "#––––––––––––––––––––––––––––––––––––––––––––––––––––––––––––––––\n",
    "wait = await page.wait_for_selector('.result-section-column-1')\n",
    "#––––––––––––––––––––––––––––––––––––––––––––––––––––––––––––––––\n",
    "# creating the dictionary\n",
    "#––––––––––––––––––––––––––––––––––––––––––––––––––––––––––––––––\n",
    "information = []\n",
    "wrapper_class = await page.query_selector_all('.result-section-column-1')\n",
    "for element in wrapper_class[:7]:\n",
    "    term_elements = await element.query_selector_all('h3[data-h3-number]')\n",
    "    for term_element in term_elements:\n",
    "        term = await term_element.text_content()\n",
    "    ep_info = []\n",
    "    effected_persons_class = await element.query_selector('.affected-persons')\n",
    "    if effected_persons_class is not None: \n",
    "        ep_element = await effected_persons_class.query_selector_all('li')\n",
    "        for ep in ep_element:\n",
    "            #ep_content_list = []\n",
    "            op_content = await ep.text_content()\n",
    "            ep_info.append(op_content)\n",
    "    else:\n",
    "       ep_info.append('not provided')\n",
    "    information_dictionary = {\n",
    "        'term': term,\n",
    "        'concerned-group': ep_info,\n",
    "    }\n",
    "    information.append(information_dictionary)\n",
    "#––––––––––––––––––––––––––––––––––––––––––––––––––––––––––––––––\n",
    "# print \n",
    "#––––––––––––––––––––––––––––––––––––––––––––––––––––––––––––––––\n",
    "#print (information)\n",
    "#––––––––––––––––––––––––––––––––––––––––––––––––––––––––––––––––\n",
    "# close the browser after finishing \n",
    "#––––––––––––––––––––––––––––––––––––––––––––––––––––––––––––––––\n",
    "await browser.close()\n",
    "information"
   ]
  },
  {
   "cell_type": "markdown",
   "metadata": {},
   "source": [
    "Next step would be extracting with regex so we have 'concerend-group': 'children', concerned-group:'youth & juviles', so when we aggregate, we can see which country has abused what group the most ––> using pandas\n",
    "\n",
    "      {\n",
    "      'term': 'Fundamental legal safeguards',\n",
    "      'concerned-group': [\n",
    "        'Law enforcement / police & prison officials',\n",
    "        'Children',\n",
    "        'Medical staff / health professionals',\n",
    "        'Youth & juveniles',\n",
    "        'Persons deprived of their liberty & detainees'\n",
    "        ]\n",
    "      }"
   ]
  },
  {
   "cell_type": "code",
   "execution_count": null,
   "metadata": {},
   "outputs": [],
   "source": []
  }
 ],
 "metadata": {
  "kernelspec": {
   "display_name": "Python 3",
   "language": "python",
   "name": "python3"
  },
  "language_info": {
   "codemirror_mode": {
    "name": "ipython",
    "version": 3
   },
   "file_extension": ".py",
   "mimetype": "text/x-python",
   "name": "python",
   "nbconvert_exporter": "python",
   "pygments_lexer": "ipython3",
   "version": "3.10.12"
  }
 },
 "nbformat": 4,
 "nbformat_minor": 4
}
