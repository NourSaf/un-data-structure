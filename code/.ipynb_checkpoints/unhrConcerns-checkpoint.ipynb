{
 "cells": [
  {
   "cell_type": "code",
   "execution_count": 2,
   "metadata": {},
   "outputs": [],
   "source": [
    "#import requests and beautifulSoup\n",
    "import requests\n",
    "from bs4 import BeautifulSoup"
   ]
  },
  {
   "cell_type": "code",
   "execution_count": 3,
   "metadata": {},
   "outputs": [],
   "source": [
    "url = \"https://uhri.ohchr.org/en/search-human-rights-recommendations?mechanisms=c33cacab-3cce-4f17-85e7-d1498db6b1aa&mechanismsOpened=c33cacab-3cce-4f17-85e7-d1498db6b1aa\"\n",
    "html = requests.get(url).content\n",
    "doc = BeautifulSoup(html,'html.parser')"
   ]
  },
  {
   "cell_type": "code",
   "execution_count": 7,
   "metadata": {},
   "outputs": [
    {
     "name": "stdout",
     "output_type": "stream",
     "text": [
      "Element not found\n"
     ]
    }
   ],
   "source": [
    "annotation_type = doc.find('div', class_='result-section-column-1')\n",
    "\n",
    "if annotation_type:\n",
    "    print(annotation_type.text)\n",
    "else:\n",
    "    print(\"Element not found\")"
   ]
  },
  {
   "cell_type": "code",
   "execution_count": 10,
   "metadata": {
    "scrolled": true
   },
   "outputs": [
    {
     "name": "stdout",
     "output_type": "stream",
     "text": [
      "<div class=\"result-row-section-list col affected-persons\"><div class=\"list-title\">Concerned persons/groups</div><ul><li>Law enforcement / police &amp; prison officials</li><li>Military personnel</li></ul></div><div class=\"result-row-section-list col countries\"><div class=\"list-title\">Country</div><ul><li>Republic of Korea</li></ul></div><div class=\"result-row-section-list col themes\"><div class=\"list-title\">Human Rights Themes</div><ul><li>Cooperation &amp; Follow up with Treaty Bodies</li><li>National Human Rights Institution (NHRI)</li></ul></div><div class=\"result-row-section-list col annotationtype\"><div class=\"list-title\">Type</div><ul><li>Concerns/Observations</li></ul></div>\n"
     ]
    }
   ],
   "source": [
    "import asyncio\n",
    "from playwright.async_api import async_playwright\n",
    "\n",
    "async with async_playwright() as playwright:\n",
    "    browser = await playwright.chromium.launch(headless=False)\n",
    "    page = await browser.new_page()\n",
    "    await page.goto(\n",
    "        'https://uhri.ohchr.org/en/search-human-rights-recommendations?mechanisms=c33cacab-3cce-4f17-85e7-d1498db6b1aa&mechanismsOpened=c33cacab-3cce-4f17-85e7-d1498db6b1aa',\n",
    "        wait_until=\"domcontentloaded\"\n",
    "    )\n",
    "    \n",
    "    # Wait for the specific element to load\n",
    "    await page.wait_for_selector('.result-section-lists-wrapper')\n",
    "    \n",
    "    # Extract the element's content\n",
    "    stuff = await page.query_selector('.result-section-lists-wrapper')\n",
    "    content = await stuff.inner_html() if stuff else \"No content found\"\n",
    "    \n",
    "    print(content)\n",
    "    await browser.close()\n",
    "\n"
   ]
  },
  {
   "cell_type": "code",
   "execution_count": null,
   "metadata": {},
   "outputs": [],
   "source": []
  },
  {
   "cell_type": "code",
   "execution_count": null,
   "metadata": {},
   "outputs": [],
   "source": []
  }
 ],
 "metadata": {
  "kernelspec": {
   "display_name": "Python 3 (ipykernel)",
   "language": "python",
   "name": "python3"
  },
  "language_info": {
   "codemirror_mode": {
    "name": "ipython",
    "version": 3
   },
   "file_extension": ".py",
   "mimetype": "text/x-python",
   "name": "python",
   "nbconvert_exporter": "python",
   "pygments_lexer": "ipython3",
   "version": "3.10.12"
  }
 },
 "nbformat": 4,
 "nbformat_minor": 4
}
